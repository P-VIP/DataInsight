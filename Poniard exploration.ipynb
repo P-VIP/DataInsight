{
 "cells": [
  {
   "cell_type": "markdown",
   "id": "a24e53c1",
   "metadata": {},
   "source": [
    "# Introduction\n",
    "This is a simple notebook exploring the usage of python based ML library Poniard (https://github.com/rxavier/poniard) which present a stop mult-model comparsion platform for classification and regression problem"
   ]
  },
  {
   "cell_type": "markdown",
   "id": "f6809ef0",
   "metadata": {},
   "source": [
    "Installation"
   ]
  },
  {
   "cell_type": "code",
   "execution_count": 1,
   "id": "a222bf52",
   "metadata": {},
   "outputs": [],
   "source": [
    "#!pip install poniard"
   ]
  },
  {
   "cell_type": "markdown",
   "id": "b917b056",
   "metadata": {},
   "source": [
    "For exploration purpose, we can consider a toy data available with sklearn, however, one remains free to use any other data as well and explore!!"
   ]
  },
  {
   "cell_type": "code",
   "execution_count": 2,
   "id": "dc1e0587",
   "metadata": {},
   "outputs": [
    {
     "name": "stdout",
     "output_type": "stream",
     "text": [
      "Main metric: roc_auc\n",
      "Minimum unique values to consider a number feature numeric: 56\n",
      "Minimum unique values to consider a non-number feature high cardinality: 20\n",
      "\n",
      "Inferred feature types:\n",
      "                    numeric categorical_high categorical_low datetime\n",
      "0               mean radius                                          \n",
      "1              mean texture                                          \n",
      "2            mean perimeter                                          \n",
      "3                 mean area                                          \n",
      "4           mean smoothness                                          \n",
      "5          mean compactness                                          \n",
      "6            mean concavity                                          \n",
      "7       mean concave points                                          \n",
      "8             mean symmetry                                          \n",
      "9    mean fractal dimension                                          \n",
      "10             radius error                                          \n",
      "11            texture error                                          \n",
      "12          perimeter error                                          \n",
      "13               area error                                          \n",
      "14         smoothness error                                          \n",
      "15        compactness error                                          \n",
      "16          concavity error                                          \n",
      "17     concave points error                                          \n",
      "18           symmetry error                                          \n",
      "19  fractal dimension error                                          \n",
      "20             worst radius                                          \n",
      "21            worst texture                                          \n",
      "22          worst perimeter                                          \n",
      "23               worst area                                          \n",
      "24         worst smoothness                                          \n",
      "25        worst compactness                                          \n",
      "26          worst concavity                                          \n",
      "27     worst concave points                                          \n",
      "28           worst symmetry                                          \n",
      "29  worst fractal dimension                                          \n"
     ]
    }
   ],
   "source": [
    "from sklearn.datasets import load_breast_cancer\n",
    "from poniard import PoniardClassifier\n",
    "\n",
    "X, y = load_breast_cancer(return_X_y=True, as_frame=True)\n",
    "pclf = PoniardClassifier(random_state=0).setup(X, y)"
   ]
  },
  {
   "cell_type": "markdown",
   "id": "625374c3",
   "metadata": {},
   "source": [
    "Before proceeding ahead, we can have a glimpse into the default preprocessing available with the library"
   ]
  },
  {
   "cell_type": "code",
   "execution_count": 3,
   "id": "b6a1f108",
   "metadata": {
    "scrolled": false
   },
   "outputs": [
    {
     "data": {
      "text/html": [
       "<style>#sk-container-id-1 {color: black;background-color: white;}#sk-container-id-1 pre{padding: 0;}#sk-container-id-1 div.sk-toggleable {background-color: white;}#sk-container-id-1 label.sk-toggleable__label {cursor: pointer;display: block;width: 100%;margin-bottom: 0;padding: 0.3em;box-sizing: border-box;text-align: center;}#sk-container-id-1 label.sk-toggleable__label-arrow:before {content: \"▸\";float: left;margin-right: 0.25em;color: #696969;}#sk-container-id-1 label.sk-toggleable__label-arrow:hover:before {color: black;}#sk-container-id-1 div.sk-estimator:hover label.sk-toggleable__label-arrow:before {color: black;}#sk-container-id-1 div.sk-toggleable__content {max-height: 0;max-width: 0;overflow: hidden;text-align: left;background-color: #f0f8ff;}#sk-container-id-1 div.sk-toggleable__content pre {margin: 0.2em;color: black;border-radius: 0.25em;background-color: #f0f8ff;}#sk-container-id-1 input.sk-toggleable__control:checked~div.sk-toggleable__content {max-height: 200px;max-width: 100%;overflow: auto;}#sk-container-id-1 input.sk-toggleable__control:checked~label.sk-toggleable__label-arrow:before {content: \"▾\";}#sk-container-id-1 div.sk-estimator input.sk-toggleable__control:checked~label.sk-toggleable__label {background-color: #d4ebff;}#sk-container-id-1 div.sk-label input.sk-toggleable__control:checked~label.sk-toggleable__label {background-color: #d4ebff;}#sk-container-id-1 input.sk-hidden--visually {border: 0;clip: rect(1px 1px 1px 1px);clip: rect(1px, 1px, 1px, 1px);height: 1px;margin: -1px;overflow: hidden;padding: 0;position: absolute;width: 1px;}#sk-container-id-1 div.sk-estimator {font-family: monospace;background-color: #f0f8ff;border: 1px dotted black;border-radius: 0.25em;box-sizing: border-box;margin-bottom: 0.5em;}#sk-container-id-1 div.sk-estimator:hover {background-color: #d4ebff;}#sk-container-id-1 div.sk-parallel-item::after {content: \"\";width: 100%;border-bottom: 1px solid gray;flex-grow: 1;}#sk-container-id-1 div.sk-label:hover label.sk-toggleable__label {background-color: #d4ebff;}#sk-container-id-1 div.sk-serial::before {content: \"\";position: absolute;border-left: 1px solid gray;box-sizing: border-box;top: 0;bottom: 0;left: 50%;z-index: 0;}#sk-container-id-1 div.sk-serial {display: flex;flex-direction: column;align-items: center;background-color: white;padding-right: 0.2em;padding-left: 0.2em;position: relative;}#sk-container-id-1 div.sk-item {position: relative;z-index: 1;}#sk-container-id-1 div.sk-parallel {display: flex;align-items: stretch;justify-content: center;background-color: white;position: relative;}#sk-container-id-1 div.sk-item::before, #sk-container-id-1 div.sk-parallel-item::before {content: \"\";position: absolute;border-left: 1px solid gray;box-sizing: border-box;top: 0;bottom: 0;left: 50%;z-index: -1;}#sk-container-id-1 div.sk-parallel-item {display: flex;flex-direction: column;z-index: 1;position: relative;background-color: white;}#sk-container-id-1 div.sk-parallel-item:first-child::after {align-self: flex-end;width: 50%;}#sk-container-id-1 div.sk-parallel-item:last-child::after {align-self: flex-start;width: 50%;}#sk-container-id-1 div.sk-parallel-item:only-child::after {width: 0;}#sk-container-id-1 div.sk-dashed-wrapped {border: 1px dashed gray;margin: 0 0.4em 0.5em 0.4em;box-sizing: border-box;padding-bottom: 0.4em;background-color: white;}#sk-container-id-1 div.sk-label label {font-family: monospace;font-weight: bold;display: inline-block;line-height: 1.2em;}#sk-container-id-1 div.sk-label-container {text-align: center;}#sk-container-id-1 div.sk-container {/* jupyter's `normalize.less` sets `[hidden] { display: none; }` but bootstrap.min.css set `[hidden] { display: none !important; }` so we also need the `!important` here to be able to override the default hidden behavior on the sphinx rendered scikit-learn.org. See: https://github.com/scikit-learn/scikit-learn/issues/21755 */display: inline-block !important;position: relative;}#sk-container-id-1 div.sk-text-repr-fallback {display: none;}</style><div id=\"sk-container-id-1\" class=\"sk-top-container\"><div class=\"sk-text-repr-fallback\"><pre>ColumnTransformer(transformers=[(&#x27;numeric_preprocessor&#x27;,\n",
       "                                 Pipeline(steps=[(&#x27;numeric_imputer&#x27;,\n",
       "                                                  SimpleImputer()),\n",
       "                                                 (&#x27;scaler&#x27;, StandardScaler())]),\n",
       "                                 [&#x27;mean radius&#x27;, &#x27;mean texture&#x27;,\n",
       "                                  &#x27;mean perimeter&#x27;, &#x27;mean area&#x27;,\n",
       "                                  &#x27;mean smoothness&#x27;, &#x27;mean compactness&#x27;,\n",
       "                                  &#x27;mean concavity&#x27;, &#x27;mean concave points&#x27;,\n",
       "                                  &#x27;mean symmetry&#x27;, &#x27;mean fractal dimension&#x27;,\n",
       "                                  &#x27;radius error&#x27;, &#x27;texture error&#x27;,\n",
       "                                  &#x27;perimeter error&#x27;, &#x27;a...\n",
       "                                                                handle_unknown=&#x27;ignore&#x27;))]),\n",
       "                                 []),\n",
       "                                (&#x27;categorical_high_preprocessor&#x27;,\n",
       "                                 Pipeline(steps=[(&#x27;categorical_imputer&#x27;,\n",
       "                                                  SimpleImputer(strategy=&#x27;most_frequent&#x27;)),\n",
       "                                                 (&#x27;high_cardinality_encoder&#x27;,\n",
       "                                                  TargetEncoder(task=&#x27;classification&#x27;))]),\n",
       "                                 []),\n",
       "                                (&#x27;datetime_preprocessor&#x27;,\n",
       "                                 Pipeline(steps=[(&#x27;datetime_encoder&#x27;,\n",
       "                                                  DatetimeEncoder()),\n",
       "                                                 (&#x27;datetime_imputer&#x27;,\n",
       "                                                  SimpleImputer(strategy=&#x27;most_frequent&#x27;))]),\n",
       "                                 [])])</pre><b>In a Jupyter environment, please rerun this cell to show the HTML representation or trust the notebook. <br />On GitHub, the HTML representation is unable to render, please try loading this page with nbviewer.org.</b></div><div class=\"sk-container\" hidden><div class=\"sk-item sk-dashed-wrapped\"><div class=\"sk-label-container\"><div class=\"sk-label sk-toggleable\"><input class=\"sk-toggleable__control sk-hidden--visually\" id=\"sk-estimator-id-1\" type=\"checkbox\" ><label for=\"sk-estimator-id-1\" class=\"sk-toggleable__label sk-toggleable__label-arrow\">ColumnTransformer</label><div class=\"sk-toggleable__content\"><pre>ColumnTransformer(transformers=[(&#x27;numeric_preprocessor&#x27;,\n",
       "                                 Pipeline(steps=[(&#x27;numeric_imputer&#x27;,\n",
       "                                                  SimpleImputer()),\n",
       "                                                 (&#x27;scaler&#x27;, StandardScaler())]),\n",
       "                                 [&#x27;mean radius&#x27;, &#x27;mean texture&#x27;,\n",
       "                                  &#x27;mean perimeter&#x27;, &#x27;mean area&#x27;,\n",
       "                                  &#x27;mean smoothness&#x27;, &#x27;mean compactness&#x27;,\n",
       "                                  &#x27;mean concavity&#x27;, &#x27;mean concave points&#x27;,\n",
       "                                  &#x27;mean symmetry&#x27;, &#x27;mean fractal dimension&#x27;,\n",
       "                                  &#x27;radius error&#x27;, &#x27;texture error&#x27;,\n",
       "                                  &#x27;perimeter error&#x27;, &#x27;a...\n",
       "                                                                handle_unknown=&#x27;ignore&#x27;))]),\n",
       "                                 []),\n",
       "                                (&#x27;categorical_high_preprocessor&#x27;,\n",
       "                                 Pipeline(steps=[(&#x27;categorical_imputer&#x27;,\n",
       "                                                  SimpleImputer(strategy=&#x27;most_frequent&#x27;)),\n",
       "                                                 (&#x27;high_cardinality_encoder&#x27;,\n",
       "                                                  TargetEncoder(task=&#x27;classification&#x27;))]),\n",
       "                                 []),\n",
       "                                (&#x27;datetime_preprocessor&#x27;,\n",
       "                                 Pipeline(steps=[(&#x27;datetime_encoder&#x27;,\n",
       "                                                  DatetimeEncoder()),\n",
       "                                                 (&#x27;datetime_imputer&#x27;,\n",
       "                                                  SimpleImputer(strategy=&#x27;most_frequent&#x27;))]),\n",
       "                                 [])])</pre></div></div></div><div class=\"sk-parallel\"><div class=\"sk-parallel-item\"><div class=\"sk-item\"><div class=\"sk-label-container\"><div class=\"sk-label sk-toggleable\"><input class=\"sk-toggleable__control sk-hidden--visually\" id=\"sk-estimator-id-2\" type=\"checkbox\" ><label for=\"sk-estimator-id-2\" class=\"sk-toggleable__label sk-toggleable__label-arrow\">numeric_preprocessor</label><div class=\"sk-toggleable__content\"><pre>[&#x27;mean radius&#x27;, &#x27;mean texture&#x27;, &#x27;mean perimeter&#x27;, &#x27;mean area&#x27;, &#x27;mean smoothness&#x27;, &#x27;mean compactness&#x27;, &#x27;mean concavity&#x27;, &#x27;mean concave points&#x27;, &#x27;mean symmetry&#x27;, &#x27;mean fractal dimension&#x27;, &#x27;radius error&#x27;, &#x27;texture error&#x27;, &#x27;perimeter error&#x27;, &#x27;area error&#x27;, &#x27;smoothness error&#x27;, &#x27;compactness error&#x27;, &#x27;concavity error&#x27;, &#x27;concave points error&#x27;, &#x27;symmetry error&#x27;, &#x27;fractal dimension error&#x27;, &#x27;worst radius&#x27;, &#x27;worst texture&#x27;, &#x27;worst perimeter&#x27;, &#x27;worst area&#x27;, &#x27;worst smoothness&#x27;, &#x27;worst compactness&#x27;, &#x27;worst concavity&#x27;, &#x27;worst concave points&#x27;, &#x27;worst symmetry&#x27;, &#x27;worst fractal dimension&#x27;]</pre></div></div></div><div class=\"sk-serial\"><div class=\"sk-item\"><div class=\"sk-serial\"><div class=\"sk-item\"><div class=\"sk-estimator sk-toggleable\"><input class=\"sk-toggleable__control sk-hidden--visually\" id=\"sk-estimator-id-3\" type=\"checkbox\" ><label for=\"sk-estimator-id-3\" class=\"sk-toggleable__label sk-toggleable__label-arrow\">SimpleImputer</label><div class=\"sk-toggleable__content\"><pre>SimpleImputer()</pre></div></div></div><div class=\"sk-item\"><div class=\"sk-estimator sk-toggleable\"><input class=\"sk-toggleable__control sk-hidden--visually\" id=\"sk-estimator-id-4\" type=\"checkbox\" ><label for=\"sk-estimator-id-4\" class=\"sk-toggleable__label sk-toggleable__label-arrow\">StandardScaler</label><div class=\"sk-toggleable__content\"><pre>StandardScaler()</pre></div></div></div></div></div></div></div></div><div class=\"sk-parallel-item\"><div class=\"sk-item\"><div class=\"sk-label-container\"><div class=\"sk-label sk-toggleable\"><input class=\"sk-toggleable__control sk-hidden--visually\" id=\"sk-estimator-id-5\" type=\"checkbox\" ><label for=\"sk-estimator-id-5\" class=\"sk-toggleable__label sk-toggleable__label-arrow\">categorical_low_preprocessor</label><div class=\"sk-toggleable__content\"><pre>[]</pre></div></div></div><div class=\"sk-serial\"><div class=\"sk-item\"><div class=\"sk-serial\"><div class=\"sk-item\"><div class=\"sk-estimator sk-toggleable\"><input class=\"sk-toggleable__control sk-hidden--visually\" id=\"sk-estimator-id-6\" type=\"checkbox\" ><label for=\"sk-estimator-id-6\" class=\"sk-toggleable__label sk-toggleable__label-arrow\">SimpleImputer</label><div class=\"sk-toggleable__content\"><pre>SimpleImputer(strategy=&#x27;most_frequent&#x27;)</pre></div></div></div><div class=\"sk-item\"><div class=\"sk-estimator sk-toggleable\"><input class=\"sk-toggleable__control sk-hidden--visually\" id=\"sk-estimator-id-7\" type=\"checkbox\" ><label for=\"sk-estimator-id-7\" class=\"sk-toggleable__label sk-toggleable__label-arrow\">OneHotEncoder</label><div class=\"sk-toggleable__content\"><pre>OneHotEncoder(drop=&#x27;if_binary&#x27;, handle_unknown=&#x27;ignore&#x27;)</pre></div></div></div></div></div></div></div></div><div class=\"sk-parallel-item\"><div class=\"sk-item\"><div class=\"sk-label-container\"><div class=\"sk-label sk-toggleable\"><input class=\"sk-toggleable__control sk-hidden--visually\" id=\"sk-estimator-id-8\" type=\"checkbox\" ><label for=\"sk-estimator-id-8\" class=\"sk-toggleable__label sk-toggleable__label-arrow\">categorical_high_preprocessor</label><div class=\"sk-toggleable__content\"><pre>[]</pre></div></div></div><div class=\"sk-serial\"><div class=\"sk-item\"><div class=\"sk-serial\"><div class=\"sk-item\"><div class=\"sk-estimator sk-toggleable\"><input class=\"sk-toggleable__control sk-hidden--visually\" id=\"sk-estimator-id-9\" type=\"checkbox\" ><label for=\"sk-estimator-id-9\" class=\"sk-toggleable__label sk-toggleable__label-arrow\">SimpleImputer</label><div class=\"sk-toggleable__content\"><pre>SimpleImputer(strategy=&#x27;most_frequent&#x27;)</pre></div></div></div><div class=\"sk-item\"><div class=\"sk-estimator sk-toggleable\"><input class=\"sk-toggleable__control sk-hidden--visually\" id=\"sk-estimator-id-10\" type=\"checkbox\" ><label for=\"sk-estimator-id-10\" class=\"sk-toggleable__label sk-toggleable__label-arrow\">TargetEncoder</label><div class=\"sk-toggleable__content\"><pre>TargetEncoder(task=&#x27;classification&#x27;)</pre></div></div></div></div></div></div></div></div><div class=\"sk-parallel-item\"><div class=\"sk-item\"><div class=\"sk-label-container\"><div class=\"sk-label sk-toggleable\"><input class=\"sk-toggleable__control sk-hidden--visually\" id=\"sk-estimator-id-11\" type=\"checkbox\" ><label for=\"sk-estimator-id-11\" class=\"sk-toggleable__label sk-toggleable__label-arrow\">datetime_preprocessor</label><div class=\"sk-toggleable__content\"><pre>[]</pre></div></div></div><div class=\"sk-serial\"><div class=\"sk-item\"><div class=\"sk-serial\"><div class=\"sk-item\"><div class=\"sk-estimator sk-toggleable\"><input class=\"sk-toggleable__control sk-hidden--visually\" id=\"sk-estimator-id-12\" type=\"checkbox\" ><label for=\"sk-estimator-id-12\" class=\"sk-toggleable__label sk-toggleable__label-arrow\">DatetimeEncoder</label><div class=\"sk-toggleable__content\"><pre>DatetimeEncoder()</pre></div></div></div><div class=\"sk-item\"><div class=\"sk-estimator sk-toggleable\"><input class=\"sk-toggleable__control sk-hidden--visually\" id=\"sk-estimator-id-13\" type=\"checkbox\" ><label for=\"sk-estimator-id-13\" class=\"sk-toggleable__label sk-toggleable__label-arrow\">SimpleImputer</label><div class=\"sk-toggleable__content\"><pre>SimpleImputer(strategy=&#x27;most_frequent&#x27;)</pre></div></div></div></div></div></div></div></div></div></div></div></div>"
      ],
      "text/plain": [
       "ColumnTransformer(transformers=[('numeric_preprocessor',\n",
       "                                 Pipeline(steps=[('numeric_imputer',\n",
       "                                                  SimpleImputer()),\n",
       "                                                 ('scaler', StandardScaler())]),\n",
       "                                 ['mean radius', 'mean texture',\n",
       "                                  'mean perimeter', 'mean area',\n",
       "                                  'mean smoothness', 'mean compactness',\n",
       "                                  'mean concavity', 'mean concave points',\n",
       "                                  'mean symmetry', 'mean fractal dimension',\n",
       "                                  'radius error', 'texture error',\n",
       "                                  'perimeter error', 'a...\n",
       "                                                                handle_unknown='ignore'))]),\n",
       "                                 []),\n",
       "                                ('categorical_high_preprocessor',\n",
       "                                 Pipeline(steps=[('categorical_imputer',\n",
       "                                                  SimpleImputer(strategy='most_frequent')),\n",
       "                                                 ('high_cardinality_encoder',\n",
       "                                                  TargetEncoder(task='classification'))]),\n",
       "                                 []),\n",
       "                                ('datetime_preprocessor',\n",
       "                                 Pipeline(steps=[('datetime_encoder',\n",
       "                                                  DatetimeEncoder()),\n",
       "                                                 ('datetime_imputer',\n",
       "                                                  SimpleImputer(strategy='most_frequent'))]),\n",
       "                                 [])])"
      ]
     },
     "execution_count": 3,
     "metadata": {},
     "output_type": "execute_result"
    }
   ],
   "source": [
    "pclf.preprocessor_"
   ]
  },
  {
   "cell_type": "markdown",
   "id": "7256e328",
   "metadata": {},
   "source": [
    "model training configuration"
   ]
  },
  {
   "cell_type": "code",
   "execution_count": 4,
   "id": "48675c7d",
   "metadata": {},
   "outputs": [
    {
     "data": {
      "text/plain": [
       "StratifiedKFold(n_splits=5, random_state=0, shuffle=True)"
      ]
     },
     "execution_count": 4,
     "metadata": {},
     "output_type": "execute_result"
    }
   ],
   "source": [
    "pclf.cv_"
   ]
  },
  {
   "cell_type": "code",
   "execution_count": 5,
   "id": "ae6d9d86",
   "metadata": {},
   "outputs": [
    {
     "data": {
      "text/plain": [
       "['roc_auc', 'accuracy', 'precision', 'recall', 'f1']"
      ]
     },
     "execution_count": 5,
     "metadata": {},
     "output_type": "execute_result"
    }
   ],
   "source": [
    "pclf.metrics_"
   ]
  },
  {
   "cell_type": "markdown",
   "id": "12526f27",
   "metadata": {},
   "source": [
    "model considered"
   ]
  },
  {
   "cell_type": "code",
   "execution_count": 6,
   "id": "73e8d795",
   "metadata": {},
   "outputs": [
    {
     "data": {
      "text/plain": [
       "dict_keys(['LogisticRegression', 'GaussianNB', 'LinearSVC', 'KNeighborsClassifier', 'DecisionTreeClassifier', 'RandomForestClassifier', 'HistGradientBoostingClassifier', 'XGBClassifier', 'DummyClassifier'])"
      ]
     },
     "execution_count": 6,
     "metadata": {},
     "output_type": "execute_result"
    }
   ],
   "source": [
    "pclf.estimators_.keys()"
   ]
  },
  {
   "cell_type": "markdown",
   "id": "7a3aa862",
   "metadata": {},
   "source": [
    "Now, once we have gained insight in the model configuration, types and training methodology, we fit the model"
   ]
  },
  {
   "cell_type": "code",
   "execution_count": 7,
   "id": "775a8b9b",
   "metadata": {},
   "outputs": [
    {
     "name": "stderr",
     "output_type": "stream",
     "text": [
      "Completed: 100%|██████████| 9/9 [00:11<00:00,  1.22s/it]                     \n"
     ]
    },
    {
     "data": {
      "text/plain": [
       "PoniardClassifier(estimators=None, metrics=None,\n",
       "    preprocess=True, scaler=standard, numeric_imputer=simple,\n",
       "    custom_preprocessor=None, numeric_threshold=0.1,\n",
       "    cardinality_threshold=20, cv=None, verbose=0,\n",
       "    random_state=0, n_jobs=None, plugins=None,\n",
       "    plot_options=PoniardPlotFactory())\n",
       "            "
      ]
     },
     "execution_count": 7,
     "metadata": {},
     "output_type": "execute_result"
    }
   ],
   "source": [
    "pclf.fit()"
   ]
  },
  {
   "cell_type": "markdown",
   "id": "1c01bb1a",
   "metadata": {},
   "source": [
    "show_results() provides the result obtained using CV based model fitting"
   ]
  },
  {
   "cell_type": "code",
   "execution_count": 8,
   "id": "7a4c7a47",
   "metadata": {},
   "outputs": [
    {
     "data": {
      "text/html": [
       "<div>\n",
       "<style scoped>\n",
       "    .dataframe tbody tr th:only-of-type {\n",
       "        vertical-align: middle;\n",
       "    }\n",
       "\n",
       "    .dataframe tbody tr th {\n",
       "        vertical-align: top;\n",
       "    }\n",
       "\n",
       "    .dataframe thead th {\n",
       "        text-align: right;\n",
       "    }\n",
       "</style>\n",
       "<table border=\"1\" class=\"dataframe\">\n",
       "  <thead>\n",
       "    <tr style=\"text-align: right;\">\n",
       "      <th></th>\n",
       "      <th>test_roc_auc</th>\n",
       "      <th>train_roc_auc</th>\n",
       "      <th>test_accuracy</th>\n",
       "      <th>train_accuracy</th>\n",
       "      <th>test_precision</th>\n",
       "      <th>train_precision</th>\n",
       "      <th>test_recall</th>\n",
       "      <th>train_recall</th>\n",
       "      <th>test_f1</th>\n",
       "      <th>train_f1</th>\n",
       "      <th>fit_time</th>\n",
       "      <th>score_time</th>\n",
       "    </tr>\n",
       "  </thead>\n",
       "  <tbody>\n",
       "    <tr>\n",
       "      <th>LogisticRegression</th>\n",
       "      <td>0.995456</td>\n",
       "      <td>0.997511</td>\n",
       "      <td>0.978916</td>\n",
       "      <td>0.988137</td>\n",
       "      <td>0.975411</td>\n",
       "      <td>0.986130</td>\n",
       "      <td>0.991549</td>\n",
       "      <td>0.995095</td>\n",
       "      <td>0.983351</td>\n",
       "      <td>0.990589</td>\n",
       "      <td>0.016660</td>\n",
       "      <td>0.013003</td>\n",
       "    </tr>\n",
       "    <tr>\n",
       "      <th>HistGradientBoostingClassifier</th>\n",
       "      <td>0.994128</td>\n",
       "      <td>1.000000</td>\n",
       "      <td>0.970129</td>\n",
       "      <td>1.000000</td>\n",
       "      <td>0.967263</td>\n",
       "      <td>1.000000</td>\n",
       "      <td>0.985955</td>\n",
       "      <td>1.000000</td>\n",
       "      <td>0.976433</td>\n",
       "      <td>1.000000</td>\n",
       "      <td>0.979213</td>\n",
       "      <td>0.027605</td>\n",
       "    </tr>\n",
       "    <tr>\n",
       "      <th>XGBClassifier</th>\n",
       "      <td>0.994123</td>\n",
       "      <td>1.000000</td>\n",
       "      <td>0.970129</td>\n",
       "      <td>1.000000</td>\n",
       "      <td>0.967554</td>\n",
       "      <td>1.000000</td>\n",
       "      <td>0.985915</td>\n",
       "      <td>1.000000</td>\n",
       "      <td>0.976469</td>\n",
       "      <td>1.000000</td>\n",
       "      <td>0.189375</td>\n",
       "      <td>0.027806</td>\n",
       "    </tr>\n",
       "    <tr>\n",
       "      <th>LinearSVC</th>\n",
       "      <td>0.992901</td>\n",
       "      <td>0.998985</td>\n",
       "      <td>0.968359</td>\n",
       "      <td>0.989895</td>\n",
       "      <td>0.974993</td>\n",
       "      <td>0.987510</td>\n",
       "      <td>0.974765</td>\n",
       "      <td>0.996496</td>\n",
       "      <td>0.974783</td>\n",
       "      <td>0.991982</td>\n",
       "      <td>0.014880</td>\n",
       "      <td>0.013422</td>\n",
       "    </tr>\n",
       "    <tr>\n",
       "      <th>RandomForestClassifier</th>\n",
       "      <td>0.992264</td>\n",
       "      <td>1.000000</td>\n",
       "      <td>0.964881</td>\n",
       "      <td>1.000000</td>\n",
       "      <td>0.964647</td>\n",
       "      <td>1.000000</td>\n",
       "      <td>0.980282</td>\n",
       "      <td>1.000000</td>\n",
       "      <td>0.972192</td>\n",
       "      <td>1.000000</td>\n",
       "      <td>0.292340</td>\n",
       "      <td>0.042403</td>\n",
       "    </tr>\n",
       "    <tr>\n",
       "      <th>GaussianNB</th>\n",
       "      <td>0.988730</td>\n",
       "      <td>0.988861</td>\n",
       "      <td>0.929700</td>\n",
       "      <td>0.939369</td>\n",
       "      <td>0.940993</td>\n",
       "      <td>0.941821</td>\n",
       "      <td>0.949413</td>\n",
       "      <td>0.962883</td>\n",
       "      <td>0.944300</td>\n",
       "      <td>0.952219</td>\n",
       "      <td>0.008902</td>\n",
       "      <td>0.013409</td>\n",
       "    </tr>\n",
       "    <tr>\n",
       "      <th>KNeighborsClassifier</th>\n",
       "      <td>0.980610</td>\n",
       "      <td>0.998064</td>\n",
       "      <td>0.964881</td>\n",
       "      <td>0.978472</td>\n",
       "      <td>0.955018</td>\n",
       "      <td>0.970030</td>\n",
       "      <td>0.991628</td>\n",
       "      <td>0.996501</td>\n",
       "      <td>0.972746</td>\n",
       "      <td>0.983079</td>\n",
       "      <td>0.008890</td>\n",
       "      <td>0.131973</td>\n",
       "    </tr>\n",
       "    <tr>\n",
       "      <th>DecisionTreeClassifier</th>\n",
       "      <td>0.920983</td>\n",
       "      <td>1.000000</td>\n",
       "      <td>0.926223</td>\n",
       "      <td>1.000000</td>\n",
       "      <td>0.941672</td>\n",
       "      <td>1.000000</td>\n",
       "      <td>0.941080</td>\n",
       "      <td>1.000000</td>\n",
       "      <td>0.941054</td>\n",
       "      <td>1.000000</td>\n",
       "      <td>0.019817</td>\n",
       "      <td>0.014049</td>\n",
       "    </tr>\n",
       "    <tr>\n",
       "      <th>DummyClassifier</th>\n",
       "      <td>0.500000</td>\n",
       "      <td>0.500000</td>\n",
       "      <td>0.627418</td>\n",
       "      <td>0.627417</td>\n",
       "      <td>0.627418</td>\n",
       "      <td>0.627417</td>\n",
       "      <td>1.000000</td>\n",
       "      <td>1.000000</td>\n",
       "      <td>0.771052</td>\n",
       "      <td>0.771058</td>\n",
       "      <td>0.012467</td>\n",
       "      <td>0.021321</td>\n",
       "    </tr>\n",
       "  </tbody>\n",
       "</table>\n",
       "</div>"
      ],
      "text/plain": [
       "                                test_roc_auc  train_roc_auc  test_accuracy  \\\n",
       "LogisticRegression                  0.995456       0.997511       0.978916   \n",
       "HistGradientBoostingClassifier      0.994128       1.000000       0.970129   \n",
       "XGBClassifier                       0.994123       1.000000       0.970129   \n",
       "LinearSVC                           0.992901       0.998985       0.968359   \n",
       "RandomForestClassifier              0.992264       1.000000       0.964881   \n",
       "GaussianNB                          0.988730       0.988861       0.929700   \n",
       "KNeighborsClassifier                0.980610       0.998064       0.964881   \n",
       "DecisionTreeClassifier              0.920983       1.000000       0.926223   \n",
       "DummyClassifier                     0.500000       0.500000       0.627418   \n",
       "\n",
       "                                train_accuracy  test_precision  \\\n",
       "LogisticRegression                    0.988137        0.975411   \n",
       "HistGradientBoostingClassifier        1.000000        0.967263   \n",
       "XGBClassifier                         1.000000        0.967554   \n",
       "LinearSVC                             0.989895        0.974993   \n",
       "RandomForestClassifier                1.000000        0.964647   \n",
       "GaussianNB                            0.939369        0.940993   \n",
       "KNeighborsClassifier                  0.978472        0.955018   \n",
       "DecisionTreeClassifier                1.000000        0.941672   \n",
       "DummyClassifier                       0.627417        0.627418   \n",
       "\n",
       "                                train_precision  test_recall  train_recall  \\\n",
       "LogisticRegression                     0.986130     0.991549      0.995095   \n",
       "HistGradientBoostingClassifier         1.000000     0.985955      1.000000   \n",
       "XGBClassifier                          1.000000     0.985915      1.000000   \n",
       "LinearSVC                              0.987510     0.974765      0.996496   \n",
       "RandomForestClassifier                 1.000000     0.980282      1.000000   \n",
       "GaussianNB                             0.941821     0.949413      0.962883   \n",
       "KNeighborsClassifier                   0.970030     0.991628      0.996501   \n",
       "DecisionTreeClassifier                 1.000000     0.941080      1.000000   \n",
       "DummyClassifier                        0.627417     1.000000      1.000000   \n",
       "\n",
       "                                 test_f1  train_f1  fit_time  score_time  \n",
       "LogisticRegression              0.983351  0.990589  0.016660    0.013003  \n",
       "HistGradientBoostingClassifier  0.976433  1.000000  0.979213    0.027605  \n",
       "XGBClassifier                   0.976469  1.000000  0.189375    0.027806  \n",
       "LinearSVC                       0.974783  0.991982  0.014880    0.013422  \n",
       "RandomForestClassifier          0.972192  1.000000  0.292340    0.042403  \n",
       "GaussianNB                      0.944300  0.952219  0.008902    0.013409  \n",
       "KNeighborsClassifier            0.972746  0.983079  0.008890    0.131973  \n",
       "DecisionTreeClassifier          0.941054  1.000000  0.019817    0.014049  \n",
       "DummyClassifier                 0.771052  0.771058  0.012467    0.021321  "
      ]
     },
     "execution_count": 8,
     "metadata": {},
     "output_type": "execute_result"
    }
   ],
   "source": [
    "pclf.show_results()"
   ]
  },
  {
   "cell_type": "markdown",
   "id": "1ebea0e4",
   "metadata": {},
   "source": [
    "# Building with Custom defined setting"
   ]
  },
  {
   "cell_type": "markdown",
   "id": "2d2d6a92",
   "metadata": {},
   "source": [
    "## case1: When using defined model in pipeline"
   ]
  },
  {
   "cell_type": "code",
   "execution_count": 9,
   "id": "ef757276",
   "metadata": {},
   "outputs": [
    {
     "name": "stderr",
     "output_type": "stream",
     "text": [
      "lr:   0%|          | 0/4 [00:00<?, ?it/s]"
     ]
    },
    {
     "name": "stdout",
     "output_type": "stream",
     "text": [
      "Main metric: roc_auc\n",
      "Minimum unique values to consider a number feature numeric: 56\n",
      "Minimum unique values to consider a non-number feature high cardinality: 20\n",
      "\n",
      "Inferred feature types:\n",
      "                    numeric categorical_high categorical_low datetime\n",
      "0               mean radius                                          \n",
      "1              mean texture                                          \n",
      "2            mean perimeter                                          \n",
      "3                 mean area                                          \n",
      "4           mean smoothness                                          \n",
      "5          mean compactness                                          \n",
      "6            mean concavity                                          \n",
      "7       mean concave points                                          \n",
      "8             mean symmetry                                          \n",
      "9    mean fractal dimension                                          \n",
      "10             radius error                                          \n",
      "11            texture error                                          \n",
      "12          perimeter error                                          \n",
      "13               area error                                          \n",
      "14         smoothness error                                          \n",
      "15        compactness error                                          \n",
      "16          concavity error                                          \n",
      "17     concave points error                                          \n",
      "18           symmetry error                                          \n",
      "19  fractal dimension error                                          \n",
      "20             worst radius                                          \n",
      "21            worst texture                                          \n",
      "22          worst perimeter                                          \n",
      "23               worst area                                          \n",
      "24         worst smoothness                                          \n",
      "25        worst compactness                                          \n",
      "26          worst concavity                                          \n",
      "27     worst concave points                                          \n",
      "28           worst symmetry                                          \n",
      "29  worst fractal dimension                                          \n"
     ]
    },
    {
     "name": "stderr",
     "output_type": "stream",
     "text": [
      "lr_no_penalty:  25%|██▌       | 1/4 [00:00<00:01,  2.94it/s]C:\\Users\\pvipl\\anaconda3\\lib\\site-packages\\sklearn\\linear_model\\_logistic.py:444: ConvergenceWarning: lbfgs failed to converge (status=1):\n",
      "STOP: TOTAL NO. of ITERATIONS REACHED LIMIT.\n",
      "\n",
      "Increase the number of iterations (max_iter) or scale the data as shown in:\n",
      "    https://scikit-learn.org/stable/modules/preprocessing.html\n",
      "Please also refer to the documentation for alternative solver options:\n",
      "    https://scikit-learn.org/stable/modules/linear_model.html#logistic-regression\n",
      "  n_iter_i = _check_optimize_result(\n",
      "Completed: 100%|██████████| 4/4 [00:01<00:00,  3.45it/s]      \n"
     ]
    },
    {
     "data": {
      "text/plain": [
       "PoniardClassifier(estimators={'lr': LogisticRegression(max_iter=1000, random_state=0), 'lr_no_penalty': LogisticRegression(penalty='none', random_state=0), 'lda': LinearDiscriminantAnalysis()}, metrics=None,\n",
       "    preprocess=True, scaler=standard, numeric_imputer=simple,\n",
       "    custom_preprocessor=None, numeric_threshold=0.1,\n",
       "    cardinality_threshold=20, cv=None, verbose=0,\n",
       "    random_state=0, n_jobs=None, plugins=None,\n",
       "    plot_options=PoniardPlotFactory())\n",
       "            "
      ]
     },
     "execution_count": 9,
     "metadata": {},
     "output_type": "execute_result"
    }
   ],
   "source": [
    "\n",
    "from sklearn.linear_model import LogisticRegression\n",
    "from sklearn.discriminant_analysis import LinearDiscriminantAnalysis\n",
    "from poniard import PoniardClassifier\n",
    "\n",
    "pclf = PoniardClassifier(random_state=0,estimators={\"lr\": LogisticRegression(max_iter=1000),\n",
    "                                    \"lr_no_penalty\": LogisticRegression(max_iter=100, penalty=\"none\"),\n",
    "                                    \"lda\": LinearDiscriminantAnalysis()})\n",
    "pclf.setup(X, y)\n",
    "pclf.fit()"
   ]
  },
  {
   "cell_type": "code",
   "execution_count": 10,
   "id": "2ac571fb",
   "metadata": {},
   "outputs": [
    {
     "data": {
      "text/html": [
       "<div>\n",
       "<style scoped>\n",
       "    .dataframe tbody tr th:only-of-type {\n",
       "        vertical-align: middle;\n",
       "    }\n",
       "\n",
       "    .dataframe tbody tr th {\n",
       "        vertical-align: top;\n",
       "    }\n",
       "\n",
       "    .dataframe thead th {\n",
       "        text-align: right;\n",
       "    }\n",
       "</style>\n",
       "<table border=\"1\" class=\"dataframe\">\n",
       "  <thead>\n",
       "    <tr style=\"text-align: right;\">\n",
       "      <th></th>\n",
       "      <th>test_roc_auc</th>\n",
       "      <th>train_roc_auc</th>\n",
       "      <th>test_accuracy</th>\n",
       "      <th>train_accuracy</th>\n",
       "      <th>test_precision</th>\n",
       "      <th>train_precision</th>\n",
       "      <th>test_recall</th>\n",
       "      <th>train_recall</th>\n",
       "      <th>test_f1</th>\n",
       "      <th>train_f1</th>\n",
       "      <th>fit_time</th>\n",
       "      <th>score_time</th>\n",
       "    </tr>\n",
       "  </thead>\n",
       "  <tbody>\n",
       "    <tr>\n",
       "      <th>lr</th>\n",
       "      <td>0.995456</td>\n",
       "      <td>0.997511</td>\n",
       "      <td>0.978916</td>\n",
       "      <td>0.988137</td>\n",
       "      <td>0.975411</td>\n",
       "      <td>0.986130</td>\n",
       "      <td>0.991549</td>\n",
       "      <td>0.995095</td>\n",
       "      <td>0.983351</td>\n",
       "      <td>0.990589</td>\n",
       "      <td>0.022983</td>\n",
       "      <td>0.020219</td>\n",
       "    </tr>\n",
       "    <tr>\n",
       "      <th>lda</th>\n",
       "      <td>0.990223</td>\n",
       "      <td>0.996792</td>\n",
       "      <td>0.954308</td>\n",
       "      <td>0.965728</td>\n",
       "      <td>0.936890</td>\n",
       "      <td>0.951829</td>\n",
       "      <td>0.994405</td>\n",
       "      <td>0.995799</td>\n",
       "      <td>0.964749</td>\n",
       "      <td>0.973307</td>\n",
       "      <td>0.016805</td>\n",
       "      <td>0.016446</td>\n",
       "    </tr>\n",
       "    <tr>\n",
       "      <th>lr_no_penalty</th>\n",
       "      <td>0.986705</td>\n",
       "      <td>1.000000</td>\n",
       "      <td>0.950769</td>\n",
       "      <td>0.999560</td>\n",
       "      <td>0.968989</td>\n",
       "      <td>1.000000</td>\n",
       "      <td>0.952308</td>\n",
       "      <td>0.999298</td>\n",
       "      <td>0.960329</td>\n",
       "      <td>0.999649</td>\n",
       "      <td>0.025204</td>\n",
       "      <td>0.015374</td>\n",
       "    </tr>\n",
       "    <tr>\n",
       "      <th>DummyClassifier</th>\n",
       "      <td>0.500000</td>\n",
       "      <td>0.500000</td>\n",
       "      <td>0.627418</td>\n",
       "      <td>0.627417</td>\n",
       "      <td>0.627418</td>\n",
       "      <td>0.627417</td>\n",
       "      <td>1.000000</td>\n",
       "      <td>1.000000</td>\n",
       "      <td>0.771052</td>\n",
       "      <td>0.771058</td>\n",
       "      <td>0.009397</td>\n",
       "      <td>0.015790</td>\n",
       "    </tr>\n",
       "  </tbody>\n",
       "</table>\n",
       "</div>"
      ],
      "text/plain": [
       "                 test_roc_auc  train_roc_auc  test_accuracy  train_accuracy  \\\n",
       "lr                   0.995456       0.997511       0.978916        0.988137   \n",
       "lda                  0.990223       0.996792       0.954308        0.965728   \n",
       "lr_no_penalty        0.986705       1.000000       0.950769        0.999560   \n",
       "DummyClassifier      0.500000       0.500000       0.627418        0.627417   \n",
       "\n",
       "                 test_precision  train_precision  test_recall  train_recall  \\\n",
       "lr                     0.975411         0.986130     0.991549      0.995095   \n",
       "lda                    0.936890         0.951829     0.994405      0.995799   \n",
       "lr_no_penalty          0.968989         1.000000     0.952308      0.999298   \n",
       "DummyClassifier        0.627418         0.627417     1.000000      1.000000   \n",
       "\n",
       "                  test_f1  train_f1  fit_time  score_time  \n",
       "lr               0.983351  0.990589  0.022983    0.020219  \n",
       "lda              0.964749  0.973307  0.016805    0.016446  \n",
       "lr_no_penalty    0.960329  0.999649  0.025204    0.015374  \n",
       "DummyClassifier  0.771052  0.771058  0.009397    0.015790  "
      ]
     },
     "execution_count": 10,
     "metadata": {},
     "output_type": "execute_result"
    }
   ],
   "source": [
    "pclf.show_results()"
   ]
  },
  {
   "cell_type": "markdown",
   "id": "467ada86",
   "metadata": {},
   "source": [
    "## case 2: Changing metric in model definition"
   ]
  },
  {
   "cell_type": "code",
   "execution_count": 11,
   "id": "33cd6f68",
   "metadata": {},
   "outputs": [
    {
     "name": "stderr",
     "output_type": "stream",
     "text": [
      "lr_no_penalty:  25%|██▌       | 1/4 [00:00<00:00,  6.23it/s]"
     ]
    },
    {
     "name": "stdout",
     "output_type": "stream",
     "text": [
      "Main metric: neg_log_loss\n",
      "Minimum unique values to consider a number feature numeric: 56\n",
      "Minimum unique values to consider a non-number feature high cardinality: 20\n",
      "\n",
      "Inferred feature types:\n",
      "                    numeric categorical_high categorical_low datetime\n",
      "0               mean radius                                          \n",
      "1              mean texture                                          \n",
      "2            mean perimeter                                          \n",
      "3                 mean area                                          \n",
      "4           mean smoothness                                          \n",
      "5          mean compactness                                          \n",
      "6            mean concavity                                          \n",
      "7       mean concave points                                          \n",
      "8             mean symmetry                                          \n",
      "9    mean fractal dimension                                          \n",
      "10             radius error                                          \n",
      "11            texture error                                          \n",
      "12          perimeter error                                          \n",
      "13               area error                                          \n",
      "14         smoothness error                                          \n",
      "15        compactness error                                          \n",
      "16          concavity error                                          \n",
      "17     concave points error                                          \n",
      "18           symmetry error                                          \n",
      "19  fractal dimension error                                          \n",
      "20             worst radius                                          \n",
      "21            worst texture                                          \n",
      "22          worst perimeter                                          \n",
      "23               worst area                                          \n",
      "24         worst smoothness                                          \n",
      "25        worst compactness                                          \n",
      "26          worst concavity                                          \n",
      "27     worst concave points                                          \n",
      "28           worst symmetry                                          \n",
      "29  worst fractal dimension                                          \n"
     ]
    },
    {
     "name": "stderr",
     "output_type": "stream",
     "text": [
      "Completed: 100%|██████████| 4/4 [00:00<00:00,  5.82it/s]      \n"
     ]
    },
    {
     "data": {
      "text/plain": [
       "PoniardClassifier(estimators={'lr': LogisticRegression(max_iter=1000, random_state=0), 'lr_no_penalty': LogisticRegression(max_iter=1000, penalty='none', random_state=0), 'lda': LinearDiscriminantAnalysis()}, metrics=['neg_log_loss'],\n",
       "    preprocess=True, scaler=standard, numeric_imputer=simple,\n",
       "    custom_preprocessor=None, numeric_threshold=0.1,\n",
       "    cardinality_threshold=20, cv=None, verbose=0,\n",
       "    random_state=0, n_jobs=None, plugins=None,\n",
       "    plot_options=PoniardPlotFactory())\n",
       "            "
      ]
     },
     "execution_count": 11,
     "metadata": {},
     "output_type": "execute_result"
    }
   ],
   "source": [
    "\n",
    "\n",
    "#X, y = make_regression()\n",
    "pclf = PoniardClassifier(metrics=[\"neg_log_loss\"],estimators={\"lr\": LogisticRegression(max_iter=1000),\n",
    "                                    \"lr_no_penalty\": LogisticRegression(max_iter=1000, penalty=\"none\"),\n",
    "                                    \"lda\": LinearDiscriminantAnalysis()})\n",
    "pclf.setup(X, y)\n",
    "pclf.fit()"
   ]
  },
  {
   "cell_type": "code",
   "execution_count": 12,
   "id": "c6cbe316",
   "metadata": {},
   "outputs": [
    {
     "data": {
      "text/html": [
       "<div>\n",
       "<style scoped>\n",
       "    .dataframe tbody tr th:only-of-type {\n",
       "        vertical-align: middle;\n",
       "    }\n",
       "\n",
       "    .dataframe tbody tr th {\n",
       "        vertical-align: top;\n",
       "    }\n",
       "\n",
       "    .dataframe thead th {\n",
       "        text-align: right;\n",
       "    }\n",
       "</style>\n",
       "<table border=\"1\" class=\"dataframe\">\n",
       "  <thead>\n",
       "    <tr style=\"text-align: right;\">\n",
       "      <th></th>\n",
       "      <th>test_neg_log_loss</th>\n",
       "      <th>train_neg_log_loss</th>\n",
       "      <th>fit_time</th>\n",
       "      <th>score_time</th>\n",
       "    </tr>\n",
       "  </thead>\n",
       "  <tbody>\n",
       "    <tr>\n",
       "      <th>lr</th>\n",
       "      <td>-0.073786</td>\n",
       "      <td>-5.296873e-02</td>\n",
       "      <td>0.017680</td>\n",
       "      <td>0.004923</td>\n",
       "    </tr>\n",
       "    <tr>\n",
       "      <th>lda</th>\n",
       "      <td>-0.139660</td>\n",
       "      <td>-8.686903e-02</td>\n",
       "      <td>0.015739</td>\n",
       "      <td>0.006414</td>\n",
       "    </tr>\n",
       "    <tr>\n",
       "      <th>DummyClassifier</th>\n",
       "      <td>-0.660334</td>\n",
       "      <td>-6.603142e-01</td>\n",
       "      <td>0.010395</td>\n",
       "      <td>0.008578</td>\n",
       "    </tr>\n",
       "    <tr>\n",
       "      <th>lr_no_penalty</th>\n",
       "      <td>-1.655873</td>\n",
       "      <td>-5.829453e-07</td>\n",
       "      <td>0.025737</td>\n",
       "      <td>0.006319</td>\n",
       "    </tr>\n",
       "  </tbody>\n",
       "</table>\n",
       "</div>"
      ],
      "text/plain": [
       "                 test_neg_log_loss  train_neg_log_loss  fit_time  score_time\n",
       "lr                       -0.073786       -5.296873e-02  0.017680    0.004923\n",
       "lda                      -0.139660       -8.686903e-02  0.015739    0.006414\n",
       "DummyClassifier          -0.660334       -6.603142e-01  0.010395    0.008578\n",
       "lr_no_penalty            -1.655873       -5.829453e-07  0.025737    0.006319"
      ]
     },
     "execution_count": 12,
     "metadata": {},
     "output_type": "execute_result"
    }
   ],
   "source": [
    "pclf.show_results()"
   ]
  },
  {
   "cell_type": "code",
   "execution_count": null,
   "id": "6eecd9e0",
   "metadata": {},
   "outputs": [],
   "source": []
  }
 ],
 "metadata": {
  "kernelspec": {
   "display_name": "Python 3",
   "language": "python",
   "name": "python3"
  },
  "language_info": {
   "codemirror_mode": {
    "name": "ipython",
    "version": 3
   },
   "file_extension": ".py",
   "mimetype": "text/x-python",
   "name": "python",
   "nbconvert_exporter": "python",
   "pygments_lexer": "ipython3",
   "version": "3.8.8"
  }
 },
 "nbformat": 4,
 "nbformat_minor": 5
}
